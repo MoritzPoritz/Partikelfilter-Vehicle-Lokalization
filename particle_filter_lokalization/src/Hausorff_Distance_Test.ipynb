{
 "cells": [
  {
   "cell_type": "code",
   "execution_count": 1,
   "metadata": {},
   "outputs": [],
   "source": [
    "from turtle import distance\n",
    "import cv2 as cv\n",
    "import numpy as np\n",
    "import pandas as pd\n",
    "import matplotlib.pyplot as plt\n",
    "from scipy import stats\n",
    "import config.config as config\n",
    "from scipy import spatial\n",
    "import time\n",
    "from sklearn.metrics.pairwise import cosine_similarity"
   ]
  },
  {
   "cell_type": "code",
   "execution_count": 4,
   "metadata": {},
   "outputs": [],
   "source": [
    "pc = pd.read_csv('../data/sample_id_0__curve__rain_rate_0__pc.csv')\n",
    "data = pd.read_csv('../data/sample_id_0__curve__rain_rate_0__lidar__data.csv')\n",
    "pc_array = np.stack([pc['pc_x'], pc['pc_y']], axis=1)\n",
    "positions = np.stack([data['positions_x_ground_truth'], data['positions_y_ground_truth']], axis=1)"
   ]
  },
  {
   "cell_type": "code",
   "execution_count": null,
   "metadata": {},
   "outputs": [],
   "source": []
  },
  {
   "cell_type": "code",
   "execution_count": 5,
   "metadata": {},
   "outputs": [],
   "source": [
    "from queue import SimpleQueue\n",
    "from statistics import median\n",
    "\n",
    "\n",
    "def get_pc_similarity(starting_pos,position, position_2): \n",
    "    \n",
    "    # get all points in range of lidar sensor\n",
    "    subs_start = (starting_pos - pc_array[:,0:2])\n",
    "    # calculate their range\n",
    "    ranges_start = np.linalg.norm(subs_start, axis=1)\n",
    "    in_range_start = np.array(subs_start[ranges_start<config.lidar_range])\n",
    "\n",
    "\n",
    "    # get all points in range of lidar sensor\n",
    "    subs = (position - pc_array[:,0:2])\n",
    "    # calculate their range\n",
    "    ranges = np.linalg.norm(subs, axis=1)\n",
    "    in_range = np.array(subs[ranges<config.lidar_range])\n",
    "\n",
    "    subs_2 = (position_2 - pc_array[:,0:2])\n",
    "    # calculate their range\n",
    "    ranges_2 = np.linalg.norm(subs_2, axis=1)\n",
    "    in_range_2 = np.array(subs_2[ranges_2<config.lidar_range])\n",
    "    \n",
    "    distance_to_zero = spatial.distance.directed_hausdorff(in_range_start, in_range)[0]\n",
    "    distance_to_zero_2 = spatial.distance.directed_hausdorff(in_range_start, in_range_2)[0]\n",
    "    #print(distance_to_zero, distance_to_zero_2)\n",
    "    return stats.norm(distance_to_zero, config.lidar_sensor_std).pdf(distance_to_zero_2)\n",
    "    #likelihoods = stats.norm(mode, config.lidar_sensor_std).pdf(mode_2)\n",
    "    #likelihoods = stats.norm(mean, config.lidar_sensor_std).pdf(mean_2)\n",
    "    \n",
    "    \n"
   ]
  },
  {
   "cell_type": "code",
   "execution_count": 8,
   "metadata": {},
   "outputs": [
    {
     "name": "stdout",
     "output_type": "stream",
     "text": [
      "0.0 0.0\n",
      "0  -  0 :  19.947114020071634\n",
      "0.0 0.5691924595483121\n",
      "0  -  20 :  2.639014990457532e-175\n",
      "0.0 0.9580659643694819\n",
      "0  -  40 :  0.0\n",
      "0.0 1.4013593425806254\n",
      "0  -  60 :  0.0\n",
      "0.0 2.0374922826763577\n",
      "0  -  80 :  0.0\n",
      "0.0 2.791624640916205\n",
      "0  -  100 :  0.0\n",
      "0.0 3.5942476071636302\n",
      "0  -  120 :  0.0\n",
      "0.0 4.354776315582965\n",
      "0  -  140 :  0.0\n",
      "0.0 5.21429466396834\n",
      "0  -  160 :  0.0\n",
      "0.0 6.3560298760837135\n",
      "0  -  180 :  0.0\n",
      "0.0 7.482424788101209\n",
      "0  -  200 :  0.0\n",
      "0.0 8.612273903429084\n",
      "0  -  220 :  0.0\n",
      "0.0 10.108957469926379\n",
      "0  -  240 :  0.0\n",
      "0.0 11.635169559520921\n",
      "0  -  260 :  0.0\n",
      "0.0 13.25069968122573\n",
      "0  -  280 :  0.0\n",
      "0.0 15.324515598410942\n",
      "0  -  300 :  0.0\n",
      "0.0 17.957369937260236\n",
      "0  -  320 :  0.0\n",
      "0.0 20.904174074534826\n",
      "0  -  340 :  0.0\n",
      "0.0 24.0275606753334\n",
      "0  -  360 :  0.0\n",
      "0.0 27.26871830784802\n",
      "0  -  380 :  0.0\n"
     ]
    }
   ],
   "source": [
    "init_pos_index = 0\n",
    "other_indicies = np.arange(init_pos_index, 399, 20)\n",
    "for oi in other_indicies: \n",
    "    print(init_pos_index, \" - \", oi, \": \", (get_pc_similarity(positions[0],positions[init_pos_index], positions[oi])))\n"
   ]
  },
  {
   "cell_type": "code",
   "execution_count": 19,
   "metadata": {},
   "outputs": [
    {
     "data": {
      "text/plain": [
       "<matplotlib.collections.PathCollection at 0x228f432b308>"
      ]
     },
     "execution_count": 19,
     "metadata": {},
     "output_type": "execute_result"
    },
    {
     "data": {
      "image/png": "[encoded data removed]",
      "text/plain": [
       "<Figure size 432x288 with 1 Axes>"
      ]
     },
     "metadata": {
      "needs_background": "light"
     },
     "output_type": "display_data"
    }
   ],
   "source": [
    "plt.plot(data['positions_x_ground_truth'], data['positions_y_ground_truth'])\n",
    "plt.scatter(pc_array[:,0],pc_array[:,1])\n",
    "plt.scatter(positions[100][0], positions[100][1])"
   ]
  },
  {
   "cell_type": "code",
   "execution_count": 56,
   "metadata": {},
   "outputs": [
    {
     "ename": "IndexError",
     "evalue": "tuple index out of range",
     "output_type": "error",
     "traceback": [
      "\u001b[1;31m---------------------------------------------------------------------------\u001b[0m",
      "\u001b[1;31mIndexError\u001b[0m                                Traceback (most recent call last)",
      "\u001b[1;32m~\\AppData\\Local\\Temp\\ipykernel_8756\\135002819.py\u001b[0m in \u001b[0;36m<module>\u001b[1;34m\u001b[0m\n\u001b[1;32m----> 1\u001b[1;33m \u001b[0mspatial\u001b[0m\u001b[1;33m.\u001b[0m\u001b[0mdistance\u001b[0m\u001b[1;33m.\u001b[0m\u001b[0mdirected_hausdorff\u001b[0m\u001b[1;33m(\u001b[0m\u001b[0mone\u001b[0m\u001b[1;33m,\u001b[0m \u001b[0mtwo\u001b[0m\u001b[1;33m)\u001b[0m\u001b[1;33m\u001b[0m\u001b[1;33m\u001b[0m\u001b[0m\n\u001b[0m",
      "\u001b[1;32mc:\\Users\\mso\\Anaconda3\\envs\\car\\lib\\site-packages\\scipy\\spatial\\distance.py\u001b[0m in \u001b[0;36mdirected_hausdorff\u001b[1;34m(u, v, seed)\u001b[0m\n\u001b[0;32m    427\u001b[0m     \u001b[0mu\u001b[0m \u001b[1;33m=\u001b[0m \u001b[0mnp\u001b[0m\u001b[1;33m.\u001b[0m\u001b[0masarray\u001b[0m\u001b[1;33m(\u001b[0m\u001b[0mu\u001b[0m\u001b[1;33m,\u001b[0m \u001b[0mdtype\u001b[0m\u001b[1;33m=\u001b[0m\u001b[0mnp\u001b[0m\u001b[1;33m.\u001b[0m\u001b[0mfloat64\u001b[0m\u001b[1;33m,\u001b[0m \u001b[0morder\u001b[0m\u001b[1;33m=\u001b[0m\u001b[1;34m'c'\u001b[0m\u001b[1;33m)\u001b[0m\u001b[1;33m\u001b[0m\u001b[1;33m\u001b[0m\u001b[0m\n\u001b[0;32m    428\u001b[0m     \u001b[0mv\u001b[0m \u001b[1;33m=\u001b[0m \u001b[0mnp\u001b[0m\u001b[1;33m.\u001b[0m\u001b[0masarray\u001b[0m\u001b[1;33m(\u001b[0m\u001b[0mv\u001b[0m\u001b[1;33m,\u001b[0m \u001b[0mdtype\u001b[0m\u001b[1;33m=\u001b[0m\u001b[0mnp\u001b[0m\u001b[1;33m.\u001b[0m\u001b[0mfloat64\u001b[0m\u001b[1;33m,\u001b[0m \u001b[0morder\u001b[0m\u001b[1;33m=\u001b[0m\u001b[1;34m'c'\u001b[0m\u001b[1;33m)\u001b[0m\u001b[1;33m\u001b[0m\u001b[1;33m\u001b[0m\u001b[0m\n\u001b[1;32m--> 429\u001b[1;33m     \u001b[1;32mif\u001b[0m \u001b[0mu\u001b[0m\u001b[1;33m.\u001b[0m\u001b[0mshape\u001b[0m\u001b[1;33m[\u001b[0m\u001b[1;36m1\u001b[0m\u001b[1;33m]\u001b[0m \u001b[1;33m!=\u001b[0m \u001b[0mv\u001b[0m\u001b[1;33m.\u001b[0m\u001b[0mshape\u001b[0m\u001b[1;33m[\u001b[0m\u001b[1;36m1\u001b[0m\u001b[1;33m]\u001b[0m\u001b[1;33m:\u001b[0m\u001b[1;33m\u001b[0m\u001b[1;33m\u001b[0m\u001b[0m\n\u001b[0m\u001b[0;32m    430\u001b[0m         raise ValueError('u and v need to have the same '\n\u001b[0;32m    431\u001b[0m                          'number of columns')\n",
      "\u001b[1;31mIndexError\u001b[0m: tuple index out of range"
     ]
    }
   ],
   "source": [
    "spatial.distance.directed_hausdorff(one, two)"
   ]
  },
  {
   "cell_type": "code",
   "execution_count": null,
   "metadata": {},
   "outputs": [],
   "source": []
  }
 ],
 "metadata": {
  "kernelspec": {
   "display_name": "Python 3.7.13 ('car')",
   "language": "python",
   "name": "python3"
  },
  "language_info": {
   "codemirror_mode": {
    "name": "ipython",
    "version": 3
   },
   "file_extension": ".py",
   "mimetype": "text/x-python",
   "name": "python",
   "nbconvert_exporter": "python",
   "pygments_lexer": "ipython3",
   "version": "3.7.13"
  },
  "orig_nbformat": 4,
  "vscode": {
   "interpreter": {
    "hash": "6701c114b22891e219d37e60bbdfb30b64a39fd4ca17dbea99636c4d3438df00"
   }
  }
 },
 "nbformat": 4,
 "nbformat_minor": 2
}
