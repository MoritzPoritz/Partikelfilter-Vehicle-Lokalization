{
 "cells": [
  {
   "cell_type": "code",
   "execution_count": 36,
   "metadata": {},
   "outputs": [],
   "source": [
    "from turtle import distance\n",
    "import cv2 as cv\n",
    "import numpy as np\n",
    "import pandas as pd\n",
    "import matplotlib.pyplot as plt\n",
    "from scipy import stats\n",
    "import config.config as config\n",
    "from scipy import spatial\n",
    "import time"
   ]
  },
  {
   "cell_type": "code",
   "execution_count": 37,
   "metadata": {},
   "outputs": [],
   "source": [
    "pc = pd.read_csv('../data/sample_id_0__curve__rain_rate_0__pc.csv')\n",
    "data = pd.read_csv('../data/sample_id_0__curve__rain_rate_0__lidar__data.csv')\n",
    "pc_array = np.stack([pc['pc_x'], pc['pc_y']], axis=1)\n",
    "positions = np.stack([data['positions_x_ground_truth'], data['positions_y_ground_truth']], axis=1)"
   ]
  },
  {
   "cell_type": "code",
   "execution_count": 38,
   "metadata": {},
   "outputs": [],
   "source": [
    "def get_pc_similarity(position, position_2): \n",
    "    # get all points in range of lidar sensor\n",
    "    subs = (position - pc_array[:,0:2])\n",
    "    # calculate their range\n",
    "    ranges = np.linalg.norm(subs, axis=1)\n",
    "    in_range = subs[ranges<config.lidar_range]\n",
    "\n",
    "    subs_2 = (position_2 - pc_array[:,0:2])\n",
    "    # calculate their range\n",
    "    ranges_2 = np.linalg.norm(subs_2, axis=1)\n",
    "    in_range_2 = subs_2[ranges_2<config.lidar_range]\n",
    "    print(in_range.shape, in_range_2.shape)\n",
    "    print(spatial.distance.directed_hausdorff(in_range, in_range_2))\n",
    "    "
   ]
  },
  {
   "cell_type": "code",
   "execution_count": 50,
   "metadata": {},
   "outputs": [
    {
     "name": "stdout",
     "output_type": "stream",
     "text": [
      "(538, 2) (638, 2)\n",
      "(2.1606175331232484, 537, 637)\n",
      "Took:  -0.0024766921997070312  seconds\n",
      "Would take  -16.511281331380207  minutes\n"
     ]
    }
   ],
   "source": [
    "start = time.time()\n",
    "get_pc_similarity(positions[100], positions[150])\n",
    "end = time.time()\n",
    "print(\"Took: \", start-end, \" seconds\")\n",
    "print(\"Would take \", ((start-end) * config.N * config.sample_length)/60, \" minutes\")"
   ]
  },
  {
   "cell_type": "code",
   "execution_count": null,
   "metadata": {},
   "outputs": [],
   "source": []
  },
  {
   "cell_type": "code",
   "execution_count": null,
   "metadata": {},
   "outputs": [],
   "source": []
  }
 ],
 "metadata": {
  "kernelspec": {
   "display_name": "Python 3.7.13 ('car')",
   "language": "python",
   "name": "python3"
  },
  "language_info": {
   "codemirror_mode": {
    "name": "ipython",
    "version": 3
   },
   "file_extension": ".py",
   "mimetype": "text/x-python",
   "name": "python",
   "nbconvert_exporter": "python",
   "pygments_lexer": "ipython3",
   "version": "3.7.13"
  },
  "orig_nbformat": 4,
  "vscode": {
   "interpreter": {
    "hash": "6701c114b22891e219d37e60bbdfb30b64a39fd4ca17dbea99636c4d3438df00"
   }
  }
 },
 "nbformat": 4,
 "nbformat_minor": 2
}
