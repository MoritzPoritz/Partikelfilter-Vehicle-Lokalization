{
 "cells": [
  {
   "cell_type": "code",
   "execution_count": 67,
   "metadata": {},
   "outputs": [],
   "source": [
    "import numpy as np\n",
    "import pandas as pd\n",
    "import matplotlib.pyplot as plt\n",
    "from scipy import stats\n",
    "from scipy import ndimage\n",
    "from scipy.spatial.distance import directed_hausdorff\n",
    "%matplotlib qt"
   ]
  },
  {
   "cell_type": "code",
   "execution_count": 40,
   "metadata": {},
   "outputs": [],
   "source": [
    "results = pd.read_csv('../data/evaluation_results/results_29_09_22_08_02_49.csv')"
   ]
  },
  {
   "cell_type": "code",
   "execution_count": 41,
   "metadata": {},
   "outputs": [
    {
     "data": {
      "text/html": [
       "<div>\n",
       "<style scoped>\n",
       "    .dataframe tbody tr th:only-of-type {\n",
       "        vertical-align: middle;\n",
       "    }\n",
       "\n",
       "    .dataframe tbody tr th {\n",
       "        vertical-align: top;\n",
       "    }\n",
       "\n",
       "    .dataframe thead th {\n",
       "        text-align: right;\n",
       "    }\n",
       "</style>\n",
       "<table border=\"1\" class=\"dataframe\">\n",
       "  <thead>\n",
       "    <tr style=\"text-align: right;\">\n",
       "      <th></th>\n",
       "      <th>Unnamed: 0</th>\n",
       "      <th>filter</th>\n",
       "      <th>sample</th>\n",
       "      <th>rain</th>\n",
       "      <th>road</th>\n",
       "      <th>mse</th>\n",
       "      <th>mse_db</th>\n",
       "    </tr>\n",
       "  </thead>\n",
       "  <tbody>\n",
       "    <tr>\n",
       "      <th>0</th>\n",
       "      <td>0</td>\n",
       "      <td>imu</td>\n",
       "      <td>sample_id_0</td>\n",
       "      <td>rain_rate_0</td>\n",
       "      <td>s_curve_constant_velocity</td>\n",
       "      <td>8.354667</td>\n",
       "      <td>9.219292</td>\n",
       "    </tr>\n",
       "    <tr>\n",
       "      <th>1</th>\n",
       "      <td>1</td>\n",
       "      <td>lidar</td>\n",
       "      <td>sample_id_0</td>\n",
       "      <td>rain_rate_0</td>\n",
       "      <td>s_curve_constant_velocity</td>\n",
       "      <td>10.343207</td>\n",
       "      <td>10.146552</td>\n",
       "    </tr>\n",
       "    <tr>\n",
       "      <th>2</th>\n",
       "      <td>2</td>\n",
       "      <td>imu</td>\n",
       "      <td>sample_id_0</td>\n",
       "      <td>rain_rate_10</td>\n",
       "      <td>s_curve_constant_velocity</td>\n",
       "      <td>9.596848</td>\n",
       "      <td>9.821286</td>\n",
       "    </tr>\n",
       "    <tr>\n",
       "      <th>3</th>\n",
       "      <td>3</td>\n",
       "      <td>lidar</td>\n",
       "      <td>sample_id_0</td>\n",
       "      <td>rain_rate_10</td>\n",
       "      <td>s_curve_constant_velocity</td>\n",
       "      <td>4.680102</td>\n",
       "      <td>6.702554</td>\n",
       "    </tr>\n",
       "    <tr>\n",
       "      <th>4</th>\n",
       "      <td>4</td>\n",
       "      <td>imu</td>\n",
       "      <td>sample_id_0</td>\n",
       "      <td>rain_rate_20</td>\n",
       "      <td>s_curve_constant_velocity</td>\n",
       "      <td>7.590266</td>\n",
       "      <td>8.802570</td>\n",
       "    </tr>\n",
       "    <tr>\n",
       "      <th>...</th>\n",
       "      <td>...</td>\n",
       "      <td>...</td>\n",
       "      <td>...</td>\n",
       "      <td>...</td>\n",
       "      <td>...</td>\n",
       "      <td>...</td>\n",
       "      <td>...</td>\n",
       "    </tr>\n",
       "    <tr>\n",
       "      <th>187</th>\n",
       "      <td>187</td>\n",
       "      <td>lidar</td>\n",
       "      <td>sample_id_30</td>\n",
       "      <td>rain_rate_10</td>\n",
       "      <td>curve</td>\n",
       "      <td>5.061176</td>\n",
       "      <td>7.042515</td>\n",
       "    </tr>\n",
       "    <tr>\n",
       "      <th>188</th>\n",
       "      <td>188</td>\n",
       "      <td>imu</td>\n",
       "      <td>sample_id_30</td>\n",
       "      <td>rain_rate_20</td>\n",
       "      <td>curve</td>\n",
       "      <td>1.542066</td>\n",
       "      <td>1.881030</td>\n",
       "    </tr>\n",
       "    <tr>\n",
       "      <th>189</th>\n",
       "      <td>189</td>\n",
       "      <td>lidar</td>\n",
       "      <td>sample_id_30</td>\n",
       "      <td>rain_rate_20</td>\n",
       "      <td>curve</td>\n",
       "      <td>0.847192</td>\n",
       "      <td>-0.720182</td>\n",
       "    </tr>\n",
       "    <tr>\n",
       "      <th>190</th>\n",
       "      <td>190</td>\n",
       "      <td>imu</td>\n",
       "      <td>sample_id_30</td>\n",
       "      <td>rain_rate_30</td>\n",
       "      <td>curve</td>\n",
       "      <td>5.718865</td>\n",
       "      <td>7.573098</td>\n",
       "    </tr>\n",
       "    <tr>\n",
       "      <th>191</th>\n",
       "      <td>191</td>\n",
       "      <td>lidar</td>\n",
       "      <td>sample_id_30</td>\n",
       "      <td>rain_rate_30</td>\n",
       "      <td>curve</td>\n",
       "      <td>5.151613</td>\n",
       "      <td>7.119432</td>\n",
       "    </tr>\n",
       "  </tbody>\n",
       "</table>\n",
       "<p>192 rows × 7 columns</p>\n",
       "</div>"
      ],
      "text/plain": [
       "     Unnamed: 0 filter        sample          rain                       road  \\\n",
       "0             0    imu   sample_id_0   rain_rate_0  s_curve_constant_velocity   \n",
       "1             1  lidar   sample_id_0   rain_rate_0  s_curve_constant_velocity   \n",
       "2             2    imu   sample_id_0  rain_rate_10  s_curve_constant_velocity   \n",
       "3             3  lidar   sample_id_0  rain_rate_10  s_curve_constant_velocity   \n",
       "4             4    imu   sample_id_0  rain_rate_20  s_curve_constant_velocity   \n",
       "..          ...    ...           ...           ...                        ...   \n",
       "187         187  lidar  sample_id_30  rain_rate_10                      curve   \n",
       "188         188    imu  sample_id_30  rain_rate_20                      curve   \n",
       "189         189  lidar  sample_id_30  rain_rate_20                      curve   \n",
       "190         190    imu  sample_id_30  rain_rate_30                      curve   \n",
       "191         191  lidar  sample_id_30  rain_rate_30                      curve   \n",
       "\n",
       "           mse     mse_db  \n",
       "0     8.354667   9.219292  \n",
       "1    10.343207  10.146552  \n",
       "2     9.596848   9.821286  \n",
       "3     4.680102   6.702554  \n",
       "4     7.590266   8.802570  \n",
       "..         ...        ...  \n",
       "187   5.061176   7.042515  \n",
       "188   1.542066   1.881030  \n",
       "189   0.847192  -0.720182  \n",
       "190   5.718865   7.573098  \n",
       "191   5.151613   7.119432  \n",
       "\n",
       "[192 rows x 7 columns]"
      ]
     },
     "execution_count": 41,
     "metadata": {},
     "output_type": "execute_result"
    }
   ],
   "source": [
    "results"
   ]
  },
  {
   "cell_type": "markdown",
   "metadata": {},
   "source": [
    "Bestimmten der unterschiedlichen Filter-typen und Sample Ids"
   ]
  },
  {
   "cell_type": "code",
   "execution_count": 42,
   "metadata": {},
   "outputs": [],
   "source": [
    "all_samples = results['sample'].unique()\n",
    "all_filters = results['filter'].unique()\n",
    "results_sorted_by_samlpes = {}\n",
    "imu_results_list = []\n",
    "lidar_results_list = []"
   ]
  },
  {
   "cell_type": "markdown",
   "metadata": {},
   "source": [
    "Speichern der Daten nach Sample Id und Filtertyp"
   ]
  },
  {
   "cell_type": "code",
   "execution_count": 62,
   "metadata": {},
   "outputs": [
    {
     "name": "stderr",
     "output_type": "stream",
     "text": [
      "c:\\Users\\mso\\Anaconda3\\envs\\car\\lib\\site-packages\\ipykernel_launcher.py:3: UserWarning: Boolean Series key will be reindexed to match DataFrame index.\n",
      "  This is separate from the ipykernel package so we can avoid doing imports until\n",
      "c:\\Users\\mso\\Anaconda3\\envs\\car\\lib\\site-packages\\ipykernel_launcher.py:4: UserWarning: Boolean Series key will be reindexed to match DataFrame index.\n",
      "  after removing the cwd from sys.path.\n"
     ]
    }
   ],
   "source": [
    "for sample in all_samples: \n",
    "    sample_results = results[results['sample'] == sample]\n",
    "    imu_results = sample_results[results['filter'] == \"imu\"]\n",
    "    lidar_results = sample_results[results['filter'] == \"lidar\"]   \n",
    "    imu_mean = np.mean(imu_results['mse'].values)\n",
    "    lidar_mean = np.mean(lidar_results['mse'].values)\n",
    "    results_sorted_by_samlpes[sample] = {\"imu\": imu_mean, \"lidar\": lidar_mean }\n",
    "    imu_results_list.append(imu_mean)\n",
    "    lidar_results_list.append(lidar_mean) \n",
    "\n",
    "imu_results_list = np.array(imu_results_list)\n",
    "lidar_results_list = np.array(lidar_results_list)"
   ]
  },
  {
   "cell_type": "markdown",
   "metadata": {},
   "source": [
    "Write that shit to csv\n"
   ]
  },
  {
   "cell_type": "code",
   "execution_count": 82,
   "metadata": {},
   "outputs": [],
   "source": [
    "data = {'imu': imu_results_list, 'lidar': lidar_results_list}\n",
    "df = pd.DataFrame(data)\n",
    "df.to_csv(\"../data/map/dummy_data.csv\", \",\")"
   ]
  },
  {
   "cell_type": "code",
   "execution_count": 63,
   "metadata": {},
   "outputs": [
    {
     "name": "stdout",
     "output_type": "stream",
     "text": [
      "Mean:  30.090562309511103  Std:  22.483852555950985\n",
      "Mean:  31.369326610384935  Std:  38.72561607972689\n"
     ]
    }
   ],
   "source": [
    "print(\"Mean: \", np.array(imu_results_list).mean(),\"Median: \", np.array(imu_results_list).median(), \" Std: \", np.std(np.array(imu_results_list)))\n",
    "print(\"Mean: \", np.array(lidar_results_list).mean(), \" Std: \", np.std(np.array(lidar_results_list)))"
   ]
  },
  {
   "cell_type": "markdown",
   "metadata": {},
   "source": [
    "## Auf Normalverteilung prüfen\n"
   ]
  },
  {
   "cell_type": "code",
   "execution_count": 45,
   "metadata": {},
   "outputs": [],
   "source": [
    "diff = np.array(imu_results_list) - np.array(lidar_results_list)"
   ]
  },
  {
   "cell_type": "code",
   "execution_count": 46,
   "metadata": {},
   "outputs": [],
   "source": [
    "shapiro_result = stats.shapiro(diff)\n"
   ]
  },
  {
   "cell_type": "code",
   "execution_count": 47,
   "metadata": {},
   "outputs": [
    {
     "data": {
      "text/plain": [
       "ShapiroResult(statistic=0.6235021352767944, pvalue=1.1426715218476602e-06)"
      ]
     },
     "execution_count": 47,
     "metadata": {},
     "output_type": "execute_result"
    }
   ],
   "source": [
    "shapiro_result"
   ]
  },
  {
   "cell_type": "code",
   "execution_count": 48,
   "metadata": {},
   "outputs": [
    {
     "data": {
      "text/plain": [
       "24"
      ]
     },
     "execution_count": 48,
     "metadata": {},
     "output_type": "execute_result"
    }
   ],
   "source": [
    "len(diff)"
   ]
  },
  {
   "cell_type": "code",
   "execution_count": 69,
   "metadata": {},
   "outputs": [
    {
     "name": "stdout",
     "output_type": "stream",
     "text": [
      "24.169548662983626\n",
      "17.434761403494377\n"
     ]
    }
   ],
   "source": [
    "print(ndimage.median(imu_results_list))\n",
    "print(ndimage.median(lidar_results_list))\n"
   ]
  },
  {
   "cell_type": "code",
   "execution_count": 64,
   "metadata": {},
   "outputs": [
    {
     "data": {
      "text/plain": [
       "[Text(1, 0, 'Mean RMSE IMU'), Text(2, 0, 'Mean RMSE LIDAR')]"
      ]
     },
     "execution_count": 64,
     "metadata": {},
     "output_type": "execute_result"
    }
   ],
   "source": [
    "fig, ax = plt.subplots()\n",
    "ax.set_title(\"Durchschnittliche RMSE beider Lokalisationen\")\n",
    "\n",
    "ax.boxplot([imu_results_list,lidar_results_list])\n",
    "ax.set_xticklabels(['Mean RMSE IMU', 'Mean RMSE LIDAR'])"
   ]
  },
  {
   "cell_type": "code",
   "execution_count": 78,
   "metadata": {},
   "outputs": [],
   "source": [
    "wilcoxon_result = stats.wilcoxon(x=imu_results_list, y=lidar_results_list, alternative=\"greater\")"
   ]
  },
  {
   "cell_type": "code",
   "execution_count": 79,
   "metadata": {},
   "outputs": [
    {
     "data": {
      "text/plain": [
       "WilcoxonResult(statistic=785.0, pvalue=0.021647218043793638)"
      ]
     },
     "execution_count": 79,
     "metadata": {},
     "output_type": "execute_result"
    }
   ],
   "source": [
    "wilcoxon_result"
   ]
  },
  {
   "cell_type": "code",
   "execution_count": null,
   "metadata": {},
   "outputs": [],
   "source": [
    "data "
   ]
  }
 ],
 "metadata": {
  "kernelspec": {
   "display_name": "Python 3.7.13 ('car')",
   "language": "python",
   "name": "python3"
  },
  "language_info": {
   "codemirror_mode": {
    "name": "ipython",
    "version": 3
   },
   "file_extension": ".py",
   "mimetype": "text/x-python",
   "name": "python",
   "nbconvert_exporter": "python",
   "pygments_lexer": "ipython3",
   "version": "3.7.13"
  },
  "orig_nbformat": 4,
  "vscode": {
   "interpreter": {
    "hash": "6701c114b22891e219d37e60bbdfb30b64a39fd4ca17dbea99636c4d3438df00"
   }
  }
 },
 "nbformat": 4,
 "nbformat_minor": 2
}
