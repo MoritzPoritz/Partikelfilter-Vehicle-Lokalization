{
 "cells": [
  {
   "cell_type": "code",
   "execution_count": 70,
   "metadata": {},
   "outputs": [],
   "source": [
    "from turtle import distance\n",
    "import cv2 as cv\n",
    "import numpy as np\n",
    "import pandas as pd\n",
    "import matplotlib.pyplot as plt\n",
    "from scipy import stats\n",
    "from scipy.spatial.distance import directed_hausdorff\n",
    "%matplotlib inline\n"
   ]
  },
  {
   "cell_type": "markdown",
   "metadata": {},
   "source": [
    "# Check Values"
   ]
  },
  {
   "cell_type": "code",
   "execution_count": 71,
   "metadata": {},
   "outputs": [],
   "source": [
    "scale_x = 4.06\n",
    "scale_y = -4.06\n",
    "translate_x = 963\n",
    "translate_y = 373\n",
    "\n",
    "def T(world_point):\n",
    "    return world_point*np.array([scale_x, scale_y]) + np.array([translate_x, translate_y]) "
   ]
  },
  {
   "cell_type": "code",
   "execution_count": 72,
   "metadata": {},
   "outputs": [],
   "source": [
    "def image_to_array(path): \n",
    "    \n",
    "    print(path)\n",
    "    image =  cv.imread(path)\n",
    "    gray_image = cv.cvtColor(image, cv.COLOR_BGR2GRAY)\n",
    "    return gray_image"
   ]
  },
  {
   "cell_type": "code",
   "execution_count": 162,
   "metadata": {},
   "outputs": [],
   "source": [
    "cd = pd.read_csv(\"../data/overall__imu__data.csv\")\n",
    "\n",
    "positions = np.stack([cd['positions_x_ground_truth'], cd['positions_y_ground_truth']], axis=1)\n",
    "orientations = cd['orientation_measurement']\n",
    "steerings = cd['steering_input']\n",
    "image_positions = []\n",
    "for p in positions: \n",
    "    image_positions.append(T(p))\n",
    "image_positions = np.array(image_positions)"
   ]
  },
  {
   "cell_type": "code",
   "execution_count": 158,
   "metadata": {},
   "outputs": [
    {
     "name": "stdout",
     "output_type": "stream",
     "text": [
      "../data/map/carla_map_unscaled.png\n"
     ]
    }
   ],
   "source": [
    "map = image_to_array(\"../data/map/carla_map_unscaled.png\")"
   ]
  },
  {
   "cell_type": "code",
   "execution_count": 159,
   "metadata": {},
   "outputs": [
    {
     "data": {
      "text/plain": [
       "<matplotlib.collections.PathCollection at 0x1a498727308>"
      ]
     },
     "execution_count": 159,
     "metadata": {},
     "output_type": "execute_result"
    }
   ],
   "source": [
    "plt.imshow(map)    \n",
    "plt.scatter(image_positions[:,0], image_positions[:,1])\n",
    "plt.scatter(image_positions[0,0], image_positions[0,1])\n"
   ]
  },
  {
   "cell_type": "code",
   "execution_count": 160,
   "metadata": {},
   "outputs": [
    {
     "data": {
      "text/plain": [
       "-6.530099750895616e+16"
      ]
     },
     "execution_count": 160,
     "metadata": {},
     "output_type": "execute_result"
    }
   ],
   "source": [
    "steerings.min()"
   ]
  },
  {
   "cell_type": "code",
   "execution_count": 163,
   "metadata": {},
   "outputs": [],
   "source": [
    "%matplotlib qt\n",
    "plt.plot(cd['timestamps'], (steerings))\n",
    "plt.plot(cd['timestamps'], np.rad2deg(orientations))\n",
    "plt.grid()"
   ]
  },
  {
   "cell_type": "code",
   "execution_count": 164,
   "metadata": {},
   "outputs": [],
   "source": [
    "plt.plot(cd['timestamps'], cd['velocities_ground_truth'].values, label=\"velocity\")\n",
    "plt.plot(cd['timestamps'], cd['acceleration_input'], label=\"acc input\")\n",
    "plt.plot(cd['timestamps'], cd['acceleration_measurement'], label = \"acc measure\")\n",
    "plt.legend()\n",
    "plt.grid()"
   ]
  },
  {
   "cell_type": "markdown",
   "metadata": {},
   "source": [
    "## Umberechnung der Winkelrichtung"
   ]
  },
  {
   "cell_type": "code",
   "execution_count": 87,
   "metadata": {},
   "outputs": [],
   "source": [
    "angles = np.arange(0, 2*np.pi, .10)"
   ]
  },
  {
   "cell_type": "code",
   "execution_count": 102,
   "metadata": {},
   "outputs": [],
   "source": [
    "angles\n",
    "mirrored_angles = 2*np.pi - angles\n",
    "rotated_angles = (mirrored_angles + (np.pi/2)) % (2*np.pi)"
   ]
  },
  {
   "cell_type": "code",
   "execution_count": 103,
   "metadata": {},
   "outputs": [
    {
     "data": {
      "image/png": "[encoded data removed]",
      "text/plain": [
       "<Figure size 432x288 with 1 Axes>"
      ]
     },
     "metadata": {
      "needs_background": "light"
     },
     "output_type": "display_data"
    }
   ],
   "source": [
    "plt.plot(np.rad2deg(angles))\n",
    "plt.plot(np.rad2deg(mirrored_angles))\n",
    "plt.plot(np.rad2deg(rotated_angles))\n",
    "plt.grid()"
   ]
  },
  {
   "cell_type": "code",
   "execution_count": 93,
   "metadata": {},
   "outputs": [
    {
     "data": {
      "text/plain": [
       "array([6.28318531, 6.18318531, 6.08318531, 5.98318531, 5.88318531,\n",
       "       5.78318531, 5.68318531, 5.58318531, 5.48318531, 5.38318531,\n",
       "       5.28318531, 5.18318531, 5.08318531, 4.98318531, 4.88318531,\n",
       "       4.78318531, 4.68318531, 4.58318531, 4.48318531, 4.38318531,\n",
       "       4.28318531, 4.18318531, 4.08318531, 3.98318531, 3.88318531,\n",
       "       3.78318531, 3.68318531, 3.58318531, 3.48318531, 3.38318531,\n",
       "       3.28318531, 3.18318531, 3.08318531, 2.98318531, 2.88318531,\n",
       "       2.78318531, 2.68318531, 2.58318531, 2.48318531, 2.38318531,\n",
       "       2.28318531, 2.18318531, 2.08318531, 1.98318531, 1.88318531,\n",
       "       1.78318531, 1.68318531, 1.58318531, 1.48318531, 1.38318531,\n",
       "       1.28318531, 1.18318531, 1.08318531, 0.98318531, 0.88318531,\n",
       "       0.78318531, 0.68318531, 0.58318531, 0.48318531, 0.38318531,\n",
       "       0.28318531, 0.18318531, 0.08318531])"
      ]
     },
     "execution_count": 93,
     "metadata": {},
     "output_type": "execute_result"
    }
   ],
   "source": [
    "converted_angles"
   ]
  },
  {
   "cell_type": "markdown",
   "metadata": {},
   "source": [
    "## Speichern der Distanzen \n",
    "Die Distanzen werden gespeichert und gemittelt (Median oder Mean). Anschließen wird dasselbe für die Messung getan. Aus dem Partikelresulatet wird eine Normalbverteilung erstellt, die MEssung wird in die PDF gegeben --> Gewicht"
   ]
  }
 ],
 "metadata": {
  "kernelspec": {
   "display_name": "Python 3.7.13 ('car')",
   "language": "python",
   "name": "python3"
  },
  "language_info": {
   "codemirror_mode": {
    "name": "ipython",
    "version": 3
   },
   "file_extension": ".py",
   "mimetype": "text/x-python",
   "name": "python",
   "nbconvert_exporter": "python",
   "pygments_lexer": "ipython3",
   "version": "3.7.13"
  },
  "orig_nbformat": 4,
  "vscode": {
   "interpreter": {
    "hash": "6701c114b22891e219d37e60bbdfb30b64a39fd4ca17dbea99636c4d3438df00"
   }
  }
 },
 "nbformat": 4,
 "nbformat_minor": 2
}
