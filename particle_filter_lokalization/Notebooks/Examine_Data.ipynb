{
 "cells": [
  {
   "cell_type": "code",
<<<<<<< HEAD
   "execution_count": 59,
=======
   "execution_count": 7,
>>>>>>> 4ea3b997fdfdbc551281ed62f6648c2b581aa069
   "metadata": {},
   "outputs": [],
   "source": [
    "import cv2 as cv\n",
    "import numpy as np\n",
    "import pandas as pd\n",
    "import matplotlib.pyplot as plt\n",
    "%matplotlib inline\n"
   ]
  },
  {
<<<<<<< HEAD
   "cell_type": "markdown",
   "metadata": {},
   "source": [
    "## Map Point Cloud Data"
   ]
  },
  {
   "cell_type": "code",
   "execution_count": 60,
   "metadata": {},
   "outputs": [
    {
     "data": {
      "text/html": [
       "<div>\n",
       "<style scoped>\n",
       "    .dataframe tbody tr th:only-of-type {\n",
       "        vertical-align: middle;\n",
       "    }\n",
       "\n",
       "    .dataframe tbody tr th {\n",
       "        vertical-align: top;\n",
       "    }\n",
       "\n",
       "    .dataframe thead th {\n",
       "        text-align: right;\n",
       "    }\n",
       "</style>\n",
       "<table border=\"1\" class=\"dataframe\">\n",
       "  <thead>\n",
       "    <tr style=\"text-align: right;\">\n",
       "      <th></th>\n",
       "      <th>Unnamed: 0</th>\n",
       "      <th>point_x</th>\n",
       "      <th>point_y</th>\n",
       "      <th>point_z</th>\n",
       "      <th>intensity</th>\n",
       "      <th>loc_x</th>\n",
       "      <th>loc_y</th>\n",
       "      <th>loc_z</th>\n",
       "      <th>rot_roll</th>\n",
       "      <th>rot_pitch</th>\n",
       "      <th>rot_yaw</th>\n",
       "    </tr>\n",
       "  </thead>\n",
       "  <tbody>\n",
       "    <tr>\n",
       "      <th>0</th>\n",
       "      <td>0</td>\n",
       "      <td>-0.000005</td>\n",
       "      <td>21.673222</td>\n",
       "      <td>0.378305</td>\n",
       "      <td>0.916947</td>\n",
       "      <td>0.0</td>\n",
       "      <td>0.0</td>\n",
       "      <td>0.0</td>\n",
       "      <td>0.0</td>\n",
       "      <td>0.0</td>\n",
       "      <td>0.0</td>\n",
       "    </tr>\n",
       "    <tr>\n",
       "      <th>1</th>\n",
       "      <td>1</td>\n",
       "      <td>-17.413239</td>\n",
       "      <td>17.413212</td>\n",
       "      <td>0.429846</td>\n",
       "      <td>0.906178</td>\n",
       "      <td>0.0</td>\n",
       "      <td>0.0</td>\n",
       "      <td>0.0</td>\n",
       "      <td>0.0</td>\n",
       "      <td>0.0</td>\n",
       "      <td>0.0</td>\n",
       "    </tr>\n",
       "    <tr>\n",
       "      <th>2</th>\n",
       "      <td>2</td>\n",
       "      <td>-115.296780</td>\n",
       "      <td>0.000020</td>\n",
       "      <td>2.012502</td>\n",
       "      <td>0.630490</td>\n",
       "      <td>0.0</td>\n",
       "      <td>0.0</td>\n",
       "      <td>0.0</td>\n",
       "      <td>0.0</td>\n",
       "      <td>0.0</td>\n",
       "      <td>0.0</td>\n",
       "    </tr>\n",
       "    <tr>\n",
       "      <th>3</th>\n",
       "      <td>3</td>\n",
       "      <td>-0.000006</td>\n",
       "      <td>-16.662245</td>\n",
       "      <td>0.290839</td>\n",
       "      <td>0.935514</td>\n",
       "      <td>0.0</td>\n",
       "      <td>0.0</td>\n",
       "      <td>0.0</td>\n",
       "      <td>0.0</td>\n",
       "      <td>0.0</td>\n",
       "      <td>0.0</td>\n",
       "    </tr>\n",
       "    <tr>\n",
       "      <th>4</th>\n",
       "      <td>4</td>\n",
       "      <td>24.241222</td>\n",
       "      <td>24.241250</td>\n",
       "      <td>0.579395</td>\n",
       "      <td>0.871841</td>\n",
       "      <td>0.0</td>\n",
       "      <td>0.0</td>\n",
       "      <td>0.0</td>\n",
       "      <td>0.0</td>\n",
       "      <td>0.0</td>\n",
       "      <td>0.0</td>\n",
       "    </tr>\n",
       "  </tbody>\n",
       "</table>\n",
       "</div>"
      ],
      "text/plain": [
       "   Unnamed: 0     point_x    point_y   point_z  intensity  loc_x  loc_y  \\\n",
       "0           0   -0.000005  21.673222  0.378305   0.916947    0.0    0.0   \n",
       "1           1  -17.413239  17.413212  0.429846   0.906178    0.0    0.0   \n",
       "2           2 -115.296780   0.000020  2.012502   0.630490    0.0    0.0   \n",
       "3           3   -0.000006 -16.662245  0.290839   0.935514    0.0    0.0   \n",
       "4           4   24.241222  24.241250  0.579395   0.871841    0.0    0.0   \n",
       "\n",
       "   loc_z  rot_roll  rot_pitch  rot_yaw  \n",
       "0    0.0       0.0        0.0      0.0  \n",
       "1    0.0       0.0        0.0      0.0  \n",
       "2    0.0       0.0        0.0      0.0  \n",
       "3    0.0       0.0        0.0      0.0  \n",
       "4    0.0       0.0        0.0      0.0  "
      ]
     },
     "execution_count": 60,
     "metadata": {},
     "output_type": "execute_result"
    }
   ],
   "source": [
    "pc = pd.read_csv(\"../data/map/map_pc.csv\")\n",
    "pc['point_y'] = -pc['point_y']\n",
    "pc.head()"
   ]
  },
  {
   "cell_type": "code",
   "execution_count": 61,
   "metadata": {},
   "outputs": [
    {
     "data": {
      "text/plain": [
       "(799539, 11)"
      ]
     },
     "execution_count": 61,
     "metadata": {},
     "output_type": "execute_result"
    }
   ],
   "source": [
    "pc.shape"
   ]
  },
  {
   "cell_type": "code",
   "execution_count": 62,
   "metadata": {},
   "outputs": [],
   "source": [
    "def get_rotation_matrix(theta): \n",
    "    return np.array([[np.cos(theta), -np.sin(theta)], [np.sin(theta), np.cos(theta)]])\n",
    "\n",
    "def linear_coord_transformation(local_pos: np.ndarray, rot_matrix: np.ndarray, global_pos):\n",
    "    global_pos = np.dot(local_pos, rot_matrix) + global_pos\n",
    "    return global_pos"
   ]
  },
  {
   "cell_type": "code",
   "execution_count": 63,
   "metadata": {},
   "outputs": [],
   "source": [
    "pc_trans = []\n",
    "for i,p in pc.iterrows():\n",
    "     rot_mat = get_rotation_matrix(p['rot_yaw'])\n",
    "     pc_trans.append(linear_coord_transformation(np.array([p['point_x'], p['point_y']]), rot_mat, np.array([p['loc_x'], p['loc_y']])))\n",
    "pc_trans = np.array(pc_trans)"
   ]
  },
  {
   "cell_type": "code",
   "execution_count": 65,
   "metadata": {},
   "outputs": [
    {
     "data": {
      "text/plain": [
       "<matplotlib.collections.PathCollection at 0x1e97bbbeaf0>"
      ]
     },
     "execution_count": 65,
     "metadata": {},
     "output_type": "execute_result"
    }
   ],
   "source": [
    "%matplotlib qt\n",
    "plt.scatter(pc_trans[:,0], pc_trans[:,1], s=0.001)"
   ]
  },
  {
   "cell_type": "code",
   "execution_count": null,
   "metadata": {},
   "outputs": [],
   "source": []
  },
  {
   "cell_type": "markdown",
   "metadata": {},
   "source": [
    "## Evaluation Results"
   ]
  },
  {
=======
>>>>>>> 4ea3b997fdfdbc551281ed62f6648c2b581aa069
   "cell_type": "code",
   "execution_count": 8,
   "metadata": {},
   "outputs": [],
   "source": [
    "result_data = pd.read_csv(\"../data/evaluation_results/results.csv\")"
   ]
  },
  {
   "cell_type": "code",
   "execution_count": 9,
   "metadata": {},
   "outputs": [
    {
     "data": {
      "text/plain": [
       "<BarContainer object of 4 artists>"
      ]
     },
     "execution_count": 9,
     "metadata": {},
     "output_type": "execute_result"
    },
    {
     "data": {
      "image/png": "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",
      "text/plain": [
       "<Figure size 640x480 with 1 Axes>"
      ]
     },
     "metadata": {},
     "output_type": "display_data"
    }
   ],
   "source": [
    "plt.bar(result_data['road'], result_data['mse_db'])"
   ]
  },
  {
   "cell_type": "code",
   "execution_count": 11,
   "metadata": {},
   "outputs": [
    {
     "data": {
      "text/plain": [
       "[<matplotlib.lines.Line2D at 0x1e48ce49370>]"
      ]
     },
     "execution_count": 11,
     "metadata": {},
     "output_type": "execute_result"
    },
    {
     "data": {
      "image/png": "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",
      "text/plain": [
       "<Figure size 432x288 with 1 Axes>"
      ]
     },
     "metadata": {
      "needs_background": "light"
     },
     "output_type": "display_data"
    }
   ],
   "source": [
    "plt.plot(curve_data['timestamps'], curve_data['acceleration_input'])"
   ]
  },
  {
   "cell_type": "code",
   "execution_count": null,
   "metadata": {},
   "outputs": [],
   "source": []
  }
 ],
 "metadata": {
  "kernelspec": {
   "display_name": "Python 3.8.13 ('autonomous')",
   "language": "python",
   "name": "python3"
  },
  "language_info": {
   "codemirror_mode": {
    "name": "ipython",
    "version": 3
   },
   "file_extension": ".py",
   "mimetype": "text/x-python",
   "name": "python",
   "nbconvert_exporter": "python",
   "pygments_lexer": "ipython3",
   "version": "3.8.13"
  },
  "orig_nbformat": 4,
  "vscode": {
   "interpreter": {
    "hash": "981abfea0e18570999fcb600e9460178291f8a3fb15401c6f1479c763076018b"
   }
  }
 },
 "nbformat": 4,
 "nbformat_minor": 2
}
