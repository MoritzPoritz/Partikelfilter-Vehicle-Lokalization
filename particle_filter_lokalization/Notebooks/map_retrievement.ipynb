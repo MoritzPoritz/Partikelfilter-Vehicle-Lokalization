{
 "cells": [
  {
   "cell_type": "code",
   "execution_count": 1,
   "metadata": {},
   "outputs": [],
   "source": [
    "from turtle import distance\n",
    "import cv2 as cv\n",
    "import numpy as np\n",
    "import pandas as pd\n",
    "import matplotlib.pyplot as plt\n",
    "from scipy import stats\n",
    "from scipy import linalg\n",
    "\n",
    "from scipy.spatial.distance import directed_hausdorff\n",
    "%matplotlib inline"
   ]
  },
  {
   "cell_type": "markdown",
   "metadata": {},
   "source": [
    "# Create distance map"
   ]
  },
  {
   "cell_type": "code",
   "execution_count": 155,
   "metadata": {},
   "outputs": [
    {
     "name": "stdout",
     "output_type": "stream",
     "text": [
      "1.0\n"
     ]
    },
    {
     "data": {
      "text/plain": [
       "True"
      ]
     },
     "execution_count": 155,
     "metadata": {},
     "output_type": "execute_result"
    }
   ],
   "source": [
    "distance_map = cv.imread(\"../data/map/carla_map_scaled.png\")\n",
    "distance_map = distance_map/255\n",
    "\n",
    "for i in range(6):\n",
    "    distance_map = cv.GaussianBlur(distance_map,(5,5),2)\n",
    "to_one = 1/distance_map.max()\n",
    "distance_map = distance_map * to_one\n",
    "\n",
    "cv.imwrite(\"../data/map/carla_distance_map_scaled.png\", distance_map,cv.U)\n",
    "\n"
   ]
  },
  {
   "cell_type": "code",
   "execution_count": 13,
   "metadata": {},
   "outputs": [
    {
     "name": "stdout",
     "output_type": "stream",
     "text": [
      "[0 0 0]\n"
     ]
    },
    {
     "data": {
      "image/png": "[encoded data removed]",
      "text/plain": [
       "<Figure size 432x288 with 1 Axes>"
      ]
     },
     "metadata": {
      "needs_background": "light"
     },
     "output_type": "display_data"
    }
   ],
   "source": [
    "map_reference = cv.imread(\"../data/map/carla_map_reference_unscaled.png\")\n",
    "rows, cols,_ = map_reference.shape\n",
    "window_name = 'image'\n",
    "\n",
    "plt.imshow(map_reference)\n",
    "#map_reference [0:20, 0:20] = (0,0,255)\n",
    "#cv.imshow(window_name, map_reference)\n",
    "#cv.waitKey(0) \n",
    "#cv.destroyAllWindows() \n",
    "print(map_reference[0,0])"
   ]
  },
  {
   "cell_type": "code",
   "execution_count": 15,
   "metadata": {},
   "outputs": [
    {
     "name": "stdout",
     "output_type": "stream",
     "text": [
      "Center:  [  0 255 255]\n",
      "X Base:  [  0   0 255]\n",
      "- Y Base:  [  0 255   0]\n",
      "Diagonal:  [255   0   0]\n"
     ]
    }
   ],
   "source": [
    "image_points = np.full((4,2), 0)\n",
    "# in bgr notation\n",
    "center = (0,255,255)\n",
    "x_base = (0,0, 255)\n",
    "negative_y_base = (0,255,0)\n",
    "diagonal = (255,0,0)\n",
    "\n",
    "for y in range(rows): \n",
    "    for x in range(cols): \n",
    "        if (np.array_equal(map_reference[y,x], center)): \n",
    "            print(\"Center: \", map_reference[y,x])\n",
    "            image_points[0] = np.array([x,y])\n",
    "        elif (np.array_equal(map_reference[y,x], x_base)): \n",
    "            print(\"X Base: \", map_reference[y,x])\n",
    "            image_points[1] = np.array([x,y])\n",
    "        elif (np.array_equal(map_reference[y,x], negative_y_base)): \n",
    "            print(\"- Y Base: \", map_reference[y,x])\n",
    "            image_points[2] = np.array([x,y])\n",
    "        elif (np.array_equal(map_reference[y,x], diagonal)): \n",
    "            print(\"Diagonal: \", map_reference[y,x])\n",
    "            image_points[3] = np.array([x,y])\n"
   ]
  },
  {
   "cell_type": "code",
   "execution_count": 31,
   "metadata": {},
   "outputs": [
    {
     "data": {
      "text/plain": [
       "array([[  0,   0],\n",
       "       [100,   0],\n",
       "       [  0, 100],\n",
       "       [100, 100]])"
      ]
     },
     "execution_count": 31,
     "metadata": {},
     "output_type": "execute_result"
    }
   ],
   "source": [
    "world_points"
   ]
  },
  {
   "cell_type": "code",
   "execution_count": 84,
   "metadata": {},
   "outputs": [],
   "source": [
    "world_points = np.array([\n",
    "    [0, 0],\n",
    "    [100, 0],\n",
    "    [0, 100],\n",
    "    [100, 100]\n",
    "])\n",
    "# invert y axis\n",
    "world_points[:,1] = -world_points[:,1]"
   ]
  },
  {
   "cell_type": "code",
   "execution_count": 85,
   "metadata": {},
   "outputs": [
    {
     "data": {
      "text/plain": [
       "array([[   0,    0],\n",
       "       [ 100,    0],\n",
       "       [   0, -100],\n",
       "       [ 100, -100]])"
      ]
     },
     "execution_count": 85,
     "metadata": {},
     "output_type": "execute_result"
    }
   ],
   "source": [
    "world_points"
   ]
  },
  {
   "cell_type": "code",
   "execution_count": 105,
   "metadata": {},
   "outputs": [],
   "source": [
    "image_points_own = np.array([\n",
    "    [ 963,  373],\n",
    "    [1369,  373],\n",
    "    [ 963,  779],\n",
    "    [1369,  779]\n",
    "])"
   ]
  },
  {
   "cell_type": "code",
   "execution_count": 106,
   "metadata": {},
   "outputs": [
    {
     "name": "stdout",
     "output_type": "stream",
     "text": [
      "[963. 373.]\n",
      "[1369.  373.]\n",
      "[963. 779.]\n",
      "[1369.  779.]\n"
     ]
    }
   ],
   "source": [
    "for w in world_points:\n",
    "    print(T(w)) "
   ]
  },
  {
   "cell_type": "code",
   "execution_count": 101,
   "metadata": {},
   "outputs": [],
   "source": [
    "zero_to_100_x_world = (world_points[1]-world_points[0])[0] \n",
    "zero_to_100_x_img = (image_points[1]-image_points[0])[0] \n",
    "\n",
    "zero_to_100_y_world = (world_points[2]-world_points[1])[1] \n",
    "zero_to_100_y_img = (image_points[2]-image_points[1])[1] "
   ]
  },
  {
   "cell_type": "code",
   "execution_count": 102,
   "metadata": {},
   "outputs": [
    {
     "name": "stdout",
     "output_type": "stream",
     "text": [
      "-100 406\n"
     ]
    }
   ],
   "source": [
    "print(zero_to_100_y_world, zero_to_100_y_img)"
   ]
  },
  {
   "cell_type": "code",
   "execution_count": 103,
   "metadata": {},
   "outputs": [
    {
     "data": {
      "text/plain": [
       "406.59999999999997"
      ]
     },
     "execution_count": 103,
     "metadata": {},
     "output_type": "execute_result"
    }
   ],
   "source": [
    "100 * 4.066"
   ]
  },
  {
   "cell_type": "code",
   "execution_count": 110,
   "metadata": {},
   "outputs": [],
   "source": [
    "   "
   ]
  },
  {
   "cell_type": "code",
   "execution_count": 111,
   "metadata": {},
   "outputs": [],
   "source": [
    "many_world_points = pd.read_csv(\"../data/overall__imu__data.csv\")\n"
   ]
  },
  {
   "cell_type": "code",
   "execution_count": 112,
   "metadata": {},
   "outputs": [],
   "source": [
    "wps = np.stack([many_world_points['positions_x_ground_truth'], many_world_points['positions_y_ground_truth']],axis=1)"
   ]
  },
  {
   "cell_type": "code",
   "execution_count": 113,
   "metadata": {},
   "outputs": [],
   "source": [
    "ips = []\n",
    "for wp in wps: \n",
    "    ips.append(T(wp))\n",
    "\n",
    "ips = np.array(ips)"
   ]
  },
  {
   "cell_type": "code",
   "execution_count": 115,
   "metadata": {},
   "outputs": [
    {
     "data": {
      "text/plain": [
       "<matplotlib.collections.PathCollection at 0x1d5f83c9188>"
      ]
     },
     "execution_count": 115,
     "metadata": {},
     "output_type": "execute_result"
    },
    {
     "data": {
      "image/png": "[encoded data removed]",
      "text/plain": [
       "<Figure size 432x288 with 1 Axes>"
      ]
     },
     "metadata": {
      "needs_background": "light"
     },
     "output_type": "display_data"
    }
   ],
   "source": [
    "plt.imshow(map_reference)\n",
    "plt.scatter(ips[:,0], ips[:,1])\n"
   ]
  },
  {
   "cell_type": "code",
   "execution_count": 112,
   "metadata": {},
   "outputs": [],
   "source": [
    "ig_transposed = np.transpose(image_points[1:3])\n",
    "wp_transposed = np.transpose(world_points[1:3])"
   ]
  },
  {
   "cell_type": "code",
   "execution_count": 113,
   "metadata": {},
   "outputs": [
    {
     "data": {
      "text/plain": [
       "array([[ 0.01,  0.  ],\n",
       "       [ 0.  , -0.01]])"
      ]
     },
     "execution_count": 113,
     "metadata": {},
     "output_type": "execute_result"
    }
   ],
   "source": [
    "linalg.inv(wp_transposed)"
   ]
  },
  {
   "cell_type": "code",
   "execution_count": 114,
   "metadata": {},
   "outputs": [],
   "source": [
    "A = np.linalg.solve(wp_transposed, ig_transposed)"
   ]
  },
  {
   "cell_type": "code",
   "execution_count": 116,
   "metadata": {},
   "outputs": [
    {
     "data": {
      "text/plain": [
       "array([0., 0.])"
      ]
     },
     "execution_count": 116,
     "metadata": {},
     "output_type": "execute_result"
    }
   ],
   "source": [
    "A @ world_points[0]"
   ]
  },
  {
   "cell_type": "code",
   "execution_count": 54,
   "metadata": {},
   "outputs": [
    {
     "data": {
      "text/plain": [
       "<matplotlib.collections.PathCollection at 0x16051aea1c8>"
      ]
     },
     "execution_count": 54,
     "metadata": {},
     "output_type": "execute_result"
    },
    {
     "data": {
      "image/png": "[encoded data removed]",
      "text/plain": [
       "<Figure size 432x288 with 1 Axes>"
      ]
     },
     "metadata": {
      "needs_background": "light"
     },
     "output_type": "display_data"
    }
   ],
   "source": [
    "plt.scatter(world_points[:,0], world_points[:,1])"
   ]
  },
  {
   "cell_type": "code",
   "execution_count": 55,
   "metadata": {},
   "outputs": [
    {
     "data": {
      "text/plain": [
       "<matplotlib.collections.PathCollection at 0x16051b5eb88>"
      ]
     },
     "execution_count": 55,
     "metadata": {},
     "output_type": "execute_result"
    },
    {
     "data": {
      "image/png": "[encoded data removed]",
      "text/plain": [
       "<Figure size 432x288 with 1 Axes>"
      ]
     },
     "metadata": {
      "needs_background": "light"
     },
     "output_type": "display_data"
    }
   ],
   "source": [
    "plt.scatter(image_points[:,0], image_points[:,1])"
   ]
  },
  {
   "cell_type": "code",
   "execution_count": null,
   "metadata": {},
   "outputs": [],
   "source": []
  }
 ],
 "metadata": {
  "kernelspec": {
   "display_name": "Python 3.7.13 ('car')",
   "language": "python",
   "name": "python3"
  },
  "language_info": {
   "codemirror_mode": {
    "name": "ipython",
    "version": 3
   },
   "file_extension": ".py",
   "mimetype": "text/x-python",
   "name": "python",
   "nbconvert_exporter": "python",
   "pygments_lexer": "ipython3",
   "version": "3.7.13"
  },
  "orig_nbformat": 4,
  "vscode": {
   "interpreter": {
    "hash": "6701c114b22891e219d37e60bbdfb30b64a39fd4ca17dbea99636c4d3438df00"
   }
  }
 },
 "nbformat": 4,
 "nbformat_minor": 2
}
