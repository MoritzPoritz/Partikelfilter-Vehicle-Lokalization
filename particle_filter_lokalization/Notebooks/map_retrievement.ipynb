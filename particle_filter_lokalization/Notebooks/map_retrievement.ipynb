{
 "cells": [
  {
   "cell_type": "code",
   "execution_count": 13,
   "metadata": {},
   "outputs": [],
   "source": [
    "from turtle import distance\n",
    "import cv2 as cv\n",
    "import numpy as np\n",
    "import pandas as pd\n",
    "import matplotlib.pyplot as plt\n",
    "import open3d as o3d\n",
    "from scipy import stats\n",
    "from scipy.spatial.distance import directed_hausdorff\n",
    "%matplotlib qt"
   ]
  },
  {
   "cell_type": "code",
   "execution_count": 33,
   "metadata": {},
   "outputs": [],
   "source": [
    "\n"
   ]
  },
  {
   "cell_type": "code",
   "execution_count": 30,
   "metadata": {},
   "outputs": [
    {
     "data": {
      "text/plain": [
       "<matplotlib.image.AxesImage at 0x282761afb20>"
      ]
     },
     "execution_count": 30,
     "metadata": {},
     "output_type": "execute_result"
    }
   ],
   "source": [
    "map_reference = cv.imread(\"../data/map/carla_map_reference_scaled.png\")\n",
    "rows, cols,_ = map_reference.shape\n",
    "window_name = 'image'\n",
    "\n",
    "plt.imshow(map_reference)\n",
    "#map_reference [0:20, 0:20] = (0,0,255)\n",
    "#cv.imshow(window_name, map_reference)\n",
    "#cv.waitKey(0) \n",
    "#cv.destroyAllWindows() "
   ]
  },
  {
   "cell_type": "code",
   "execution_count": 31,
   "metadata": {},
   "outputs": [
    {
     "data": {
      "text/plain": [
       "(169, 300, 3)"
      ]
     },
     "execution_count": 31,
     "metadata": {},
     "output_type": "execute_result"
    }
   ],
   "source": [
    "map_reference.shape"
   ]
  },
  {
   "cell_type": "code",
   "execution_count": 32,
   "metadata": {},
   "outputs": [
    {
     "name": "stdout",
     "output_type": "stream",
     "text": [
      "255 0 0\n",
      "255 0 0\n",
      "255 0 0\n",
      "255 0 0\n"
     ]
    }
   ],
   "source": [
    "world_points = np.array([np.array([-106.686, -4.847]),np.array([20.452, 13.196]),np.array([-64.644, 24.471]),np.array([-27.022, 69.714])])\n",
    "image_points = np.full_like(world_points)\n",
    "# in bgr notation\n",
    "first = (0,0,255)\n",
    "second = (0,255,0)\n",
    "third = (255,0,0)\n",
    "fourth = (0,255,255)\n",
    "\n",
    "for y in range(rows): \n",
    "    for x in range(cols): \n",
    "        if (map_reference[y,x] == first): \n",
    "            image_points[0] = np.array([x,y])\n"
   ]
  },
  {
   "cell_type": "code",
   "execution_count": null,
   "metadata": {},
   "outputs": [],
   "source": []
  }
 ],
 "metadata": {
  "kernelspec": {
   "display_name": "Python 3.8.13 ('autonomous')",
   "language": "python",
   "name": "python3"
  },
  "language_info": {
   "codemirror_mode": {
    "name": "ipython",
    "version": 3
   },
   "file_extension": ".py",
   "mimetype": "text/x-python",
   "name": "python",
   "nbconvert_exporter": "python",
   "pygments_lexer": "ipython3",
   "version": "3.8.13"
  },
  "orig_nbformat": 4,
  "vscode": {
   "interpreter": {
    "hash": "981abfea0e18570999fcb600e9460178291f8a3fb15401c6f1479c763076018b"
   }
  }
 },
 "nbformat": 4,
 "nbformat_minor": 2
}
